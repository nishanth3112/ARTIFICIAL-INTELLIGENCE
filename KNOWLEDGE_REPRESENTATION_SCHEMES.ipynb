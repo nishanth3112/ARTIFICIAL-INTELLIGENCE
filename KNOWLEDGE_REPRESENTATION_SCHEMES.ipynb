{
  "nbformat": 4,
  "nbformat_minor": 0,
  "metadata": {
    "colab": {
      "provenance": []
    },
    "kernelspec": {
      "name": "python3",
      "display_name": "Python 3"
    },
    "language_info": {
      "name": "python"
    }
  },
  "cells": [
    {
      "cell_type": "code",
      "execution_count": null,
      "metadata": {
        "colab": {
          "base_uri": "https://localhost:8080/"
        },
        "id": "MLC5G9N8cKG0",
        "outputId": "9c2dc082-594c-4626-8d72-95ccd1d0e2ae"
      },
      "outputs": [
        {
          "output_type": "stream",
          "name": "stdout",
          "text": [
            "Overwriting EXP8.cpp\n"
          ]
        }
      ],
      "source": [
        "%%writefile EXP8.cpp\n",
        "#include <stdio.h>\n",
        "#define SIZE 9\n",
        "int matrix[9][9] = {\n",
        "    {5,3,0,0,7,0,0,0,0},\n",
        "    {6,0,0,1,9,5,0,0,0},\n",
        "    {0,9,8,0,0,0,0,6,0},\n",
        "    {8,0,0,0,6,0,0,0,3},\n",
        "    {4,0,0,8,0,3,0,0,1},\n",
        "    {7,0,0,0,2,0,0,0,6},\n",
        "    {0,6,0,0,0,0,2,8,0},\n",
        "    {0,0,0,4,1,9,0,0,5},\n",
        "    {0,0,0,0,8,0,0,7,9}\n",
        "};\n",
        "\n",
        "void print_sudoku()\n",
        "{\n",
        "    int i,j;\n",
        "    for(i=0;i<SIZE;i++)\n",
        "    {\n",
        "        for(j=0;j<SIZE;j++)\n",
        "        {\n",
        "            printf(\"%d\\t\",matrix[i][j]);\n",
        "        }\n",
        "        printf(\"\\n\\n\");\n",
        "    }\n",
        "}\n",
        "\n",
        "int number_unassigned(int *row, int *col)\n",
        "{\n",
        "    int num_unassign = 0;\n",
        "    int i,j;\n",
        "    for(i=0;i<SIZE;i++)\n",
        "    {\n",
        "        for(j=0;j<SIZE;j++)\n",
        "        {\n",
        "\n",
        "            if(matrix[i][j] == 0)\n",
        "            {\n",
        "                //changing the values of row and col\n",
        "                *row = i;\n",
        "                *col = j;\n",
        "\n",
        "                num_unassign = 1;\n",
        "                return num_unassign;\n",
        "            }\n",
        "        }\n",
        "    }\n",
        "    return num_unassign;\n",
        "}\n",
        "\n",
        "\n",
        "int is_safe(int n, int r, int c)\n",
        "{\n",
        "    int i,j;\n",
        "\n",
        "    for(i=0;i<SIZE;i++)\n",
        "    {\n",
        "\n",
        "        if(matrix[r][i] == n)\n",
        "            return 0;\n",
        "    }\n",
        "\n",
        "    for(i=0;i<SIZE;i++)\n",
        "    {\n",
        "\n",
        "        if(matrix[i][c] == n)\n",
        "            return 0;\n",
        "    }\n",
        "\n",
        "    int row_start = (r/3)*3;\n",
        "    int col_start = (c/3)*3;\n",
        "    for(i=row_start;i<row_start+3;i++)\n",
        "    {\n",
        "        for(j=col_start;j<col_start+3;j++)\n",
        "        {\n",
        "            if(matrix[i][j]==n)\n",
        "                return 0;\n",
        "        }\n",
        "    }\n",
        "    return 1;\n",
        "}\n",
        "\n",
        "\n",
        "int solve_sudoku()\n",
        "{\n",
        "    int row;\n",
        "    int col;\n",
        "\n",
        "    if(number_unassigned(&row, &col) == 0)\n",
        "        return 1;\n",
        "    int n,i;\n",
        "\n",
        "    for(i=1;i<=SIZE;i++)\n",
        "    {\n",
        "\n",
        "        if(is_safe(i, row, col))\n",
        "        {\n",
        "            matrix[row][col] = i;\n",
        "\n",
        "            if(solve_sudoku())\n",
        "                return 1;\n",
        "            matrix[row][col]=0;\n",
        "        }\n",
        "    }\n",
        "    return 0;\n",
        "}\n",
        "\n",
        "int main()\n",
        "{\n",
        "    if (solve_sudoku())\n",
        "        print_sudoku();\n",
        "    else\n",
        "        printf(\"No solution\\n\");\n",
        "    return 0;\n",
        "}\n"
      ]
    },
    {
      "cell_type": "code",
      "source": [
        "! g++ EXP8.cpp -O EXP8"
      ],
      "metadata": {
        "colab": {
          "base_uri": "https://localhost:8080/"
        },
        "id": "zWQYODBddxSG",
        "outputId": "0b13c909-cdca-4d28-c921-307962b12cae"
      },
      "execution_count": null,
      "outputs": [
        {
          "output_type": "stream",
          "name": "stdout",
          "text": [
            "\u001b[01m\u001b[Kg++:\u001b[m\u001b[K \u001b[01;31m\u001b[Kerror: \u001b[m\u001b[KEXP8: No such file or directory\n"
          ]
        }
      ]
    },
    {
      "cell_type": "code",
      "source": [
        "! ./EXP8\n"
      ],
      "metadata": {
        "colab": {
          "base_uri": "https://localhost:8080/"
        },
        "id": "IJR8LoKgd5K7",
        "outputId": "e2ecfe8c-8990-4163-abc3-650672ca72b4"
      },
      "execution_count": null,
      "outputs": [
        {
          "output_type": "stream",
          "name": "stdout",
          "text": [
            "/bin/bash: ./EXP8: No such file or directory\n"
          ]
        }
      ]
    }
  ]
}