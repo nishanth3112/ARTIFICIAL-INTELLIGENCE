{
  "nbformat": 4,
  "nbformat_minor": 0,
  "metadata": {
    "colab": {
      "provenance": []
    },
    "kernelspec": {
      "name": "python3",
      "display_name": "Python 3"
    },
    "language_info": {
      "name": "python"
    }
  },
  "cells": [
    {
      "cell_type": "code",
      "execution_count": null,
      "metadata": {
        "colab": {
          "base_uri": "https://localhost:8080/",
          "height": 130
        },
        "id": "8IG5RVZKn3Wx",
        "outputId": "1e5f8439-5c75-4943-cb2c-c7ecf3652d98"
      },
      "outputs": [
        {
          "output_type": "error",
          "ename": "IndentationError",
          "evalue": "ignored",
          "traceback": [
            "\u001b[0;36m  File \u001b[0;32m\"<ipython-input-1-6c72833a6e25>\"\u001b[0;36m, line \u001b[0;32m23\u001b[0m\n\u001b[0;31m    message_not_punc = [] # Message without punctuation\u001b[0m\n\u001b[0m    ^\u001b[0m\n\u001b[0;31mIndentationError\u001b[0m\u001b[0;31m:\u001b[0m expected an indented block\n"
          ]
        }
      ],
      "source": [
        "import pandas as pd\n",
        "import numpy as np\n",
        "import string\n",
        "import seaborn as sns\n",
        "import matplotlib.pyplot as plt\n",
        "from nltk.corpus import stopwords\n",
        "from sklearn.feature_extraction.text import CountVectorizer\n",
        "from sklearn.feature_extraction.text import TfidfTransformer\n",
        "from sklearn.model_selection import train_test_split\n",
        "from sklearn.svm import SVC\n",
        "from collections import Counter\n",
        "from sklearn.metrics import classification_report,confusion_matrix\n",
        "from sklearn.model_selection import GridSearchCV\n",
        "%matplotlib inline\n",
        "# Load data\n",
        "data = pd.read_excel('data.xlsx')\n",
        "# Rename names columns\n",
        "data.columns = ['label', 'messages']\n",
        "data[\"length\"] = data[\"messages\"].apply(len)\n",
        "data.sort_values(by='length', ascending=False).head(10)\n",
        "data.hist(column = 'length', by ='label',figsize=(12,4), bins = 5)\n",
        "def transform_message(message):\n",
        "message_not_punc = [] # Message without punctuation\n",
        "i = 0\n",
        "for punctuation in message:\n",
        "if punctuation not in string.punctuation:\n",
        "message_not_punc.append(punctuation)\n",
        "# Join words again to form the string.\n",
        "message_not_punc = ''.join(message_not_punc)\n",
        "# Remove any stopwords for message_not_punc, but first we should\n",
        "# to transform this into the list.\n",
        "message_clean = list(message_not_punc.split(\" \"))\n",
        "while i <= len(message_clean):\n",
        "for mess in message_clean:\n",
        "if mess.lower() in stopwords.words('english'):\n",
        "message_clean.remove(mess)\n",
        "i =i +1\n",
        "return message_clean\n",
        "vectorization = CountVectorizer(analyzer = transform_message )\n",
        "X = vectorization.fit(data['messages'])\n",
        "X_transform = X.transform([data['messages']])\n",
        "# TF-IDF\n",
        "tfidf_transformer = TfidfTransformer().fit(X_transform)\n",
        "X_tfidf = tfidf_transformer.transform(X_transform)\n",
        "print(X_tfidf.shape)\n",
        "# Classification Model\n",
        "X_train, X_test, y_train, y_test = train_test_split(X_tfidf, data['messages'], test_size=0.30,\n",
        "random_state = 50)\n",
        "52 clf = SVC(kernel='linear').fit(X_train, y_train)\n",
        "# Test model\n",
        "predictions = clf.predict(X_test)\n",
        "print('predicted', predictions)\n",
        "# Is our model reliable?\n",
        "print (classification_report(y_test, predictions))\n",
        "print(confusion_matrix(y_test,predictions))"
      ]
    }
  ]
}