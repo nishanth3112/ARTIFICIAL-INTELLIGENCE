{
  "nbformat": 4,
  "nbformat_minor": 0,
  "metadata": {
    "colab": {
      "provenance": []
    },
    "kernelspec": {
      "name": "python3",
      "display_name": "Python 3"
    },
    "language_info": {
      "name": "python"
    }
  },
  "cells": [
    {
      "cell_type": "code",
      "execution_count": null,
      "metadata": {
        "colab": {
          "base_uri": "https://localhost:8080/"
        },
        "id": "w_pj7HtiS9QA",
        "outputId": "f58a307f-7abf-4968-fd4b-33f87dc36762"
      },
      "outputs": [
        {
          "output_type": "stream",
          "name": "stdout",
          "text": [
            "Overwriting EXP3.cpp\n"
          ]
        }
      ],
      "source": [
        "%%writefile EXP3.cpp\n",
        "\n",
        "\n",
        "#include <bits/stdc++.h>\n",
        "using namespace std;\n",
        "\n",
        "\n",
        "vector<int> use(10);\n",
        "\n",
        "\n",
        "struct node\n",
        "{\n",
        "\tchar c;\n",
        "\tint v;\n",
        "};\n",
        "\n",
        "\n",
        "int check(node* nodeArr, const int count, string s1,\n",
        "\t\t\t\t\t\t\tstring s2, string s3)\n",
        "{\n",
        "\tint val1 = 0, val2 = 0, val3 = 0, m = 1, j, i;\n",
        "\n",
        "\n",
        "\tfor (i = s1.length() - 1; i >= 0; i--)\n",
        "\t{\n",
        "\t\tchar ch = s1[i];\n",
        "\t\tfor (j = 0; j < count; j++)\n",
        "\t\t\tif (nodeArr[j].c == ch)\n",
        "\t\t\t\tbreak;\n",
        "\n",
        "\t\tval1 += m * nodeArr[j].v;\n",
        "\t\tm *= 10;\n",
        "\t}\n",
        "\tm = 1;\n",
        "\n",
        "\n",
        "\tfor (i = s2.length() - 1; i >= 0; i--)\n",
        "\t{\n",
        "\t\tchar ch = s2[i];\n",
        "\t\tfor (j = 0; j < count; j++)\n",
        "\t\t\tif (nodeArr[j].c == ch)\n",
        "\t\t\t\tbreak;\n",
        "\n",
        "\t\tval2 += m * nodeArr[j].v;\n",
        "\t\tm *= 10;\n",
        "\t}\n",
        "\tm = 1;\n",
        "\n",
        "\n",
        "\tfor (i = s3.length() - 1; i >= 0; i--)\n",
        "\t{\n",
        "\t\tchar ch = s3[i];\n",
        "\t\tfor (j = 0; j < count; j++)\n",
        "\t\t\tif (nodeArr[j].c == ch)\n",
        "\t\t\t\tbreak;\n",
        "\n",
        "\t\tval3 += m * nodeArr[j].v;\n",
        "\t\tm *= 10;\n",
        "\t}\n",
        "\n",
        "\n",
        "\tif (val3 == (val1 + val2))\n",
        "\t\treturn 1;\n",
        "\n",
        "\treturn 0;\n",
        "}\n",
        "\n",
        "\n",
        "bool permutation(const int count, node* nodeArr, int n,\n",
        "\t\t\t\tstring s1, string s2, string s3)\n",
        "{\n",
        "\tif (n == count - 1)\n",
        "\t{\n",
        "\t\tfor (int i = 0; i < 10; i++)\n",
        "\t\t{\n",
        "\t\t\tif (use[i] == 0)\n",
        "\t\t\t{\n",
        "        nodeArr[n].v = i;\n",
        "\n",
        "\n",
        "\t\t\t\tif (check(nodeArr, count, s1, s2, s3) == 1)\n",
        "\t\t\t\t{\n",
        "\t\t\t\t\tcout << \"\\nSolution found: \";\n",
        "\t\t\t\t\tfor (int j = 0; j < count; j++)\n",
        "\t\t\t\t\t\tcout << \" \" << nodeArr[j].c << \" = \"\n",
        "\t\t\t\t\t\t\t<< nodeArr[j].v;\n",
        "\t\t\t\t\treturn true;\n",
        "\t\t\t\t}\n",
        "\t\t\t}\n",
        "\t\t}\n",
        "\t\treturn false;\n",
        "\t}\n",
        "\n",
        "\tfor (int i = 0; i < 10; i++)\n",
        "\t{\n",
        "\n",
        "\n",
        "\t\tif (use[i] == 0)\n",
        "\t\t{\n",
        "\n",
        "\n",
        "\t\t\tnodeArr[n].v = i;\n",
        "\n",
        "\n",
        "\t\t\tuse[i] = 1;\n",
        "\n",
        "\n",
        "\t\t\tif (permutation(count, nodeArr, n + 1, s1, s2, s3))\n",
        "\t\t\t\treturn true;\n",
        "\n",
        "\n",
        "\t\t\tuse[i] = 0;\n",
        "\t\t}\n",
        "\t}\n",
        "\treturn false;\n",
        "}\n",
        "\n",
        "bool solveCryptographic(string s1, string s2,\n",
        "\t\t\t\t\t\t\t\tstring s3)\n",
        "{\n",
        "\n",
        "\tint count = 0;\n",
        "\n",
        "\tint l1 = s1.length();\n",
        "\tint l2 = s2.length();\n",
        "\tint l3 = s3.length();\n",
        "\n",
        "\n",
        "\tvector<int> freq(26);\n",
        "\n",
        "\tfor (int i = 0; i < l1; i++)\n",
        "\t\t++freq[s1[i] - 'A'];\n",
        "\n",
        "\tfor (int i = 0; i < l2; i++)\n",
        "\t\t++freq[s2[i] - 'A'];\n",
        "\n",
        "\tfor (int i = 0; i < l3; i++)\n",
        "\t\t++freq[s3[i] - 'A'];\n",
        "\n",
        "\n",
        "\tfor (int i = 0; i < 26; i++)\n",
        "\t\tif (freq[i] > 0)\n",
        "\t\t\tcount++;\n",
        "\tif (count > 10)\n",
        "\t{\n",
        "\t\tcout << \"Invalid strings\";\n",
        "\t\treturn 0;\n",
        "\t}\n",
        "\n",
        "\tnode nodeArr[count];\n",
        "\n",
        "\n",
        "\tfor (int i = 0, j = 0; i < 26; i++)\n",
        "\t{\n",
        "\t\tif (freq[i] > 0)\n",
        "\t\t{\n",
        "\t\t\tnodeArr[j].c = char(i + 'A');\n",
        "\t\t\tj++;\n",
        "\t\t}\n",
        "\t}\n",
        "\treturn permutation(count, nodeArr, 0, s1, s2, s3);\n",
        "}\n",
        "\n",
        "int main()\n",
        "{\n",
        "\tstring s1 = \"SEND\";\n",
        "\tstring s2 = \"MORE\";\n",
        "\tstring s3 = \"MONEY\";\n",
        "\n",
        "\tif (solveCryptographic(s1, s2, s3) == false)\n",
        "\t\tcout << \"No solution\";\n",
        "\treturn 0;\n",
        "}\n"
      ]
    },
    {
      "cell_type": "code",
      "source": [
        "! g++ EXP3.cpp -o EXP3"
      ],
      "metadata": {
        "id": "YM4pk1P4S_nK"
      },
      "execution_count": null,
      "outputs": []
    },
    {
      "cell_type": "code",
      "source": [
        "! ./EXP3"
      ],
      "metadata": {
        "colab": {
          "base_uri": "https://localhost:8080/"
        },
        "id": "mvsEKWjEVVTM",
        "outputId": "475e13fb-fed9-48d2-cfb8-c81033b9f245"
      },
      "execution_count": null,
      "outputs": [
        {
          "output_type": "stream",
          "name": "stdout",
          "text": [
            "\n",
            "Solution found:  D = 1 E = 5 M = 0 N = 3 O = 8 R = 2 S = 7 Y = 6"
          ]
        }
      ]
    },
    {
      "cell_type": "code",
      "source": [],
      "metadata": {
        "id": "SMs15R_2Vc8L"
      },
      "execution_count": null,
      "outputs": []
    }
  ]
}